{
  "nbformat": 4,
  "nbformat_minor": 0,
  "metadata": {
    "colab": {
      "provenance": []
    },
    "kernelspec": {
      "name": "python3",
      "display_name": "Python 3"
    },
    "language_info": {
      "name": "python"
    }
  },
  "cells": [
    {
      "cell_type": "code",
      "execution_count": null,
      "metadata": {
        "id": "qqAOkMrC_iit"
      },
      "outputs": [],
      "source": [
        "import numpy as np\n",
        "import tensorflow as tf\n",
        "from tensorflow.keras.models import Sequential\n",
        "from tensorflow.keras.layers import Dense\n",
        "from tensorflow.keras.optimizers import SGD\n",
        "\n",
        "# Generate some random data for demonstration\n",
        "np.random.seed(0)\n",
        "X = np.random.rand(100, 2)\n",
        "y = 2 * X[:, 0] + 3 * X[:, 1] + np.random.rand(100)\n",
        "\n",
        "# Create a simple neural network model\n",
        "model = Sequential()\n",
        "model.add(Dense(1, input_dim=2, activation='linear'))\n",
        "\n",
        "# Compile the model with SGD optimizer and a specified batch size\n",
        "batch_size = 16  # You can adjust the batch size\n",
        "sgd = SGD(learning_rate=0.01)  # You can adjust the learning rate\n",
        "model.compile(optimizer=sgd, loss='mean_squared_error')\n",
        "\n",
        "# Train the model using Mini-Batch SGD\n",
        "model.fit(X, y, epochs=100, batch_size=batch_size)\n",
        "\n",
        "# Evaluate the model\n",
        "loss = model.evaluate(X, y)\n",
        "print(f\"Final loss: {loss:.4f}\")\n",
        "\n",
        "# Make predictions\n",
        "predictions = model.predict(X)\n",
        "\n",
        "# Print some predictions\n",
        "for i in range(10):\n",
        "    print(f\"Input: {X[i]}, Target: {y[i]:.2f}, Predicted: {predictions[i][0]:.2f}\")\n"
      ]
    }
  ]
}